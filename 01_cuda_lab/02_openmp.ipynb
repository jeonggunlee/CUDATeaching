{
  "nbformat": 4,
  "nbformat_minor": 0,
  "metadata": {
    "colab": {
      "name": "02_openmp.ipynb",
      "provenance": [],
      "include_colab_link": true
    },
    "kernelspec": {
      "name": "python3",
      "display_name": "Python 3"
    }
  },
  "cells": [
    {
      "cell_type": "markdown",
      "metadata": {
        "id": "view-in-github",
        "colab_type": "text"
      },
      "source": [
        "<a href=\"https://colab.research.google.com/github/jeonggunlee/CUDATeaching/blob/master/01_cuda_lab/02_openmp.ipynb\" target=\"_parent\"><img src=\"https://colab.research.google.com/assets/colab-badge.svg\" alt=\"Open In Colab\"/></a>"
      ]
    },
    {
      "cell_type": "markdown",
      "metadata": {
        "id": "0aLN7JFf3war"
      },
      "source": [
        "# OpenMP Exercise"
      ]
    },
    {
      "cell_type": "code",
      "metadata": {
        "id": "7lf4rqk9xgwC",
        "colab": {
          "base_uri": "https://localhost:8080/"
        },
        "outputId": "d9185d48-6afb-4ea3-a1d3-60890493834b"
      },
      "source": [
        "%%writefile openmp1.c\n",
        "\n",
        "#include<stdio.h>\n",
        "\n",
        "int main(void)\n",
        "{\n",
        "    #pragma omp parallel\n",
        "    {\n",
        "        printf(\"Hello, world.\\n\");\n",
        "    }\n",
        "\n",
        "    return 0;\n",
        "}"
      ],
      "execution_count": 1,
      "outputs": [
        {
          "output_type": "stream",
          "name": "stdout",
          "text": [
            "Writing openmp1.c\n"
          ]
        }
      ]
    },
    {
      "cell_type": "code",
      "metadata": {
        "id": "xCoKVJiaxzWu"
      },
      "source": [
        "!gcc -fopenmp openmp1.c -o openmp1"
      ],
      "execution_count": 2,
      "outputs": []
    },
    {
      "cell_type": "markdown",
      "metadata": {
        "id": "1TQb9w95yI4t"
      },
      "source": [
        "colab 시스템이 기본적으로 two core 시스템이기 때문에 2번 진행"
      ]
    },
    {
      "cell_type": "code",
      "metadata": {
        "id": "Y5l7a06OyAym",
        "colab": {
          "base_uri": "https://localhost:8080/"
        },
        "outputId": "bbec0f56-9232-4352-e4fb-5264f044b99e"
      },
      "source": [
        "!./openmp1"
      ],
      "execution_count": 3,
      "outputs": [
        {
          "output_type": "stream",
          "name": "stdout",
          "text": [
            "Hello, world.\n",
            "Hello, world.\n"
          ]
        }
      ]
    },
    {
      "cell_type": "code",
      "metadata": {
        "id": "jG-E21e62fw2",
        "colab": {
          "base_uri": "https://localhost:8080/"
        },
        "outputId": "33eeb530-ffa1-4f19-af3b-6aed9ae77d35"
      },
      "source": [
        "%%writefile mmul.c\n",
        "\n",
        "#include <stdio.h>\n",
        "#include <stdlib.h>\n",
        "#include <omp.h>\n",
        "\n",
        "void transpose(double *A, double *B, int n) {\n",
        "    int i,j;\n",
        "    for(i=0; i<n; i++) {\n",
        "        for(j=0; j<n; j++) {\n",
        "            B[j*n+i] = A[i*n+j];\n",
        "        }\n",
        "    }\n",
        "}\n",
        "\n",
        "void gemm(double *A, double *B, double *C, int n)\n",
        "{\n",
        "    int i, j, k;\n",
        "    for (i = 0; i < n; i++) {\n",
        "        for (j = 0; j < n; j++) {\n",
        "            double dot  = 0;\n",
        "            for (k = 0; k < n; k++) {\n",
        "                dot += A[i*n+k]*B[k*n+j];\n",
        "            }\n",
        "            C[i*n+j ] = dot;\n",
        "        }\n",
        "    }\n",
        "}\n",
        "\n",
        "void gemm_omp(double *A, double *B, double *C, int n)\n",
        "{\n",
        "    #pragma omp parallel\n",
        "    {\n",
        "        int i, j, k;\n",
        "        #pragma omp for\n",
        "        for (i = 0; i < n; i++) {\n",
        "            for (j = 0; j < n; j++) {\n",
        "                double dot  = 0;\n",
        "                for (k = 0; k < n; k++) {\n",
        "                    dot += A[i*n+k]*B[k*n+j];\n",
        "                }\n",
        "                C[i*n+j ] = dot;\n",
        "            }\n",
        "        }\n",
        "\n",
        "    }\n",
        "}\n",
        "\n",
        "void gemmT(double *A, double *B, double *C, int n)\n",
        "{\n",
        "    int i, j, k;\n",
        "    double *B2;\n",
        "    B2 = (double*)malloc(sizeof(double)*n*n);\n",
        "    transpose(B,B2, n);\n",
        "    for (i = 0; i < n; i++) {\n",
        "        for (j = 0; j < n; j++) {\n",
        "            double dot  = 0;\n",
        "            for (k = 0; k < n; k++) {\n",
        "                dot += A[i*n+k]*B2[j*n+k];\n",
        "            }\n",
        "            C[i*n+j ] = dot;\n",
        "        }\n",
        "    }\n",
        "    free(B2);\n",
        "}\n",
        "\n",
        "void gemmT_omp(double *A, double *B, double *C, int n)\n",
        "{\n",
        "    double *B2;\n",
        "    B2 = (double*)malloc(sizeof(double)*n*n);\n",
        "    transpose(B,B2, n);\n",
        "    #pragma omp parallel\n",
        "    {\n",
        "        int i, j, k;\n",
        "        #pragma omp for\n",
        "        for (i = 0; i < n; i++) {\n",
        "            for (j = 0; j < n; j++) {\n",
        "                double dot  = 0;\n",
        "                for (k = 0; k < n; k++) {\n",
        "                    dot += A[i*n+k]*B2[j*n+k];\n",
        "                }\n",
        "                C[i*n+j ] = dot;\n",
        "            }\n",
        "        }\n",
        "\n",
        "    }\n",
        "    free(B2);\n",
        "}\n",
        "\n",
        "int main() {\n",
        "    int i, n;\n",
        "    double *A, *B, *C, dtime;\n",
        "\n",
        "    n=1024;\n",
        "    A = (double*)malloc(sizeof(double)*n*n);\n",
        "    B = (double*)malloc(sizeof(double)*n*n);\n",
        "    C = (double*)malloc(sizeof(double)*n*n);\n",
        "    for(i=0; i<n*n; i++) { A[i] = rand()/RAND_MAX; B[i] = rand()/RAND_MAX;}\n",
        "\n",
        "    dtime = omp_get_wtime();\n",
        "    gemm(A,B,C, n);\n",
        "    dtime = omp_get_wtime() - dtime;\n",
        "    printf(\"GEMM: %f\\n\", dtime);\n",
        "\n",
        "    dtime = omp_get_wtime();\n",
        "    gemm_omp(A,B,C, n);\n",
        "    dtime = omp_get_wtime() - dtime;\n",
        "    printf(\"GEMM with OMP: %f\\n\", dtime);\n",
        "\n",
        "    dtime = omp_get_wtime();\n",
        "    gemmT(A,B,C, n);\n",
        "    dtime = omp_get_wtime() - dtime;\n",
        "    printf(\"GEMMT%f\\n\", dtime);\n",
        "\n",
        "    dtime = omp_get_wtime();\n",
        "    gemmT_omp(A,B,C, n);\n",
        "    dtime = omp_get_wtime() - dtime;\n",
        "    printf(\"GEMMT with OMP %f\\n\", dtime);\n",
        "\n",
        "    return 0;\n",
        "\n",
        "}"
      ],
      "execution_count": 14,
      "outputs": [
        {
          "output_type": "stream",
          "name": "stdout",
          "text": [
            "Overwriting mmul.c\n"
          ]
        }
      ]
    },
    {
      "cell_type": "code",
      "metadata": {
        "id": "ERyAcjeA2n_v"
      },
      "source": [
        "!gcc -fopenmp mmul.c -o mmul"
      ],
      "execution_count": 15,
      "outputs": []
    },
    {
      "cell_type": "code",
      "metadata": {
        "id": "KWjSkOkX2r8X",
        "colab": {
          "base_uri": "https://localhost:8080/"
        },
        "outputId": "f275f89d-e9e0-4317-a7aa-869a2955a4e9"
      },
      "source": [
        "!./mmul"
      ],
      "execution_count": 16,
      "outputs": [
        {
          "output_type": "stream",
          "name": "stdout",
          "text": [
            "GEMM: 13.118797\n",
            "GEMM with OMP: 17.861310\n",
            "GEMMT3.897092\n",
            "GEMMT with OMP 5.232636\n"
          ]
        }
      ]
    },
    {
      "cell_type": "code",
      "metadata": {
        "id": "1JK3BFAi238m",
        "colab": {
          "base_uri": "https://localhost:8080/"
        },
        "outputId": "f8f77d21-60f9-4a04-d5e3-3e5f166af5f0"
      },
      "source": [
        "!./mmul"
      ],
      "execution_count": 17,
      "outputs": [
        {
          "output_type": "stream",
          "name": "stdout",
          "text": [
            "GEMM: 12.568702\n",
            "GEMM with OMP: 17.099905\n",
            "GEMMT4.770013\n",
            "GEMMT with OMP 4.019392\n"
          ]
        }
      ]
    }
  ]
}